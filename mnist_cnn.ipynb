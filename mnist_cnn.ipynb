{
 "cells": [
  {
   "cell_type": "code",
   "execution_count": 1,
   "id": "816cc70c",
   "metadata": {},
   "outputs": [],
   "source": [
    "import tensorflow as tf"
   ]
  },
  {
   "cell_type": "code",
   "execution_count": 3,
   "id": "64ab4592",
   "metadata": {},
   "outputs": [
    {
     "name": "stdout",
     "output_type": "stream",
     "text": [
      "(60000, 28, 28) (60000,)\n",
      "(10000, 28, 28) (10000,)\n"
     ]
    }
   ],
   "source": [
    "mnist = tf.keras.datasets.mnist\n",
    "(x_train, y_train), (x_valid, y_valid) = mnist.load_data()\n",
    "\n",
    "print(x_train.shape, y_train.shape)\n",
    "print(x_valid.shape, y_valid.shape)"
   ]
  },
  {
   "cell_type": "code",
   "execution_count": 4,
   "id": "a978b708",
   "metadata": {},
   "outputs": [
    {
     "data": {
      "image/png": "[encoded data removed]",
      "text/plain": [
       "<Figure size 360x360 with 1 Axes>"
      ]
     },
     "metadata": {
      "needs_background": "light"
     },
     "output_type": "display_data"
    }
   ],
   "source": [
    "import matplotlib.pyplot as plt\n",
    "s\n",
    "def plot_image(data, idx):\n",
    "    plt.figure(figsize=(5, 5))\n",
    "    plt.imshow(data[idx], cmap=\"gray\")\n",
    "    plt.axis(\"off\")\n",
    "    plt.show()\n",
    "\n",
    "plot_image(x_train, 0)"
   ]
  },
  {
   "cell_type": "code",
   "execution_count": 5,
   "id": "44c0295c",
   "metadata": {},
   "outputs": [
    {
     "name": "stdout",
     "output_type": "stream",
     "text": [
      "0 255\n",
      "0 255\n"
     ]
    }
   ],
   "source": [
    "print(x_train.min(), x_train.max())\n",
    "print(x_valid.min(), x_valid.max())"
   ]
  },
  {
   "cell_type": "code",
   "execution_count": 7,
   "id": "c20ba8dc",
   "metadata": {},
   "outputs": [
    {
     "name": "stdout",
     "output_type": "stream",
     "text": [
      "0.0 1.0\n",
      "0.0 1.0\n"
     ]
    }
   ],
   "source": [
    "x_train = x_train / x_train.max()\n",
    "x_valid = x_valid / x_valid.max()\n",
    "\n",
    "print(x_train.min(), x_train.max())\n",
    "print(x_valid.min(), x_valid.max())"
   ]
  },
  {
   "cell_type": "code",
   "execution_count": 8,
   "id": "a8d21f66",
   "metadata": {},
   "outputs": [
    {
     "name": "stdout",
     "output_type": "stream",
     "text": [
      "(60000, 28, 28) (10000, 28, 28)\n",
      "(60000, 28, 28, 1) (10000, 28, 28, 1)\n"
     ]
    }
   ],
   "source": [
    "print(x_train.shape, x_valid.shape)\n",
    "\n",
    "x_train_in = x_train[..., tf.newaxis]\n",
    "x_valid_in = x_valid[..., tf.newaxis]\n",
    "\n",
    "print(x_train_in.shape, x_valid_in.shape)"
   ]
  },
  {
   "cell_type": "code",
   "execution_count": 10,
   "id": "dde1150a",
   "metadata": {},
   "outputs": [],
   "source": [
    "#Sequential API를 이용한 모델 생성\n",
    "model = tf.keras.Sequential([\n",
    "    tf.keras.layers.Conv2D(32,(3, 3), activation='relu',\n",
    "                          input_shape=(28, 28, 1), name='conv'),\n",
    "    tf.keras.layers.MaxPooling2D((2, 2), name='pool'),\n",
    "    tf.keras.layers.Flatten(),\n",
    "    tf.keras.layers.Dense(10, activation='softmax'),\n",
    "])"
   ]
  },
  {
   "cell_type": "code",
   "execution_count": 11,
   "id": "583c439b",
   "metadata": {},
   "outputs": [
    {
     "name": "stderr",
     "output_type": "stream",
     "text": [
      "2022-02-17 06:29:27.464032: I tensorflow/compiler/mlir/mlir_graph_optimization_pass.cc:116] None of the MLIR optimization passes are enabled (registered 2)\n"
     ]
    },
    {
     "name": "stdout",
     "output_type": "stream",
     "text": [
      "Epoch 1/10\n",
      "1875/1875 [==============================] - 12s 6ms/step - loss: 0.4014 - accuracy: 0.8906 - val_loss: 0.0860 - val_accuracy: 0.9738\n",
      "Epoch 2/10\n",
      "1875/1875 [==============================] - 11s 6ms/step - loss: 0.0819 - accuracy: 0.9774 - val_loss: 0.0644 - val_accuracy: 0.9801\n",
      "Epoch 3/10\n",
      "1875/1875 [==============================] - 11s 6ms/step - loss: 0.0594 - accuracy: 0.9818 - val_loss: 0.0674 - val_accuracy: 0.9789\n",
      "Epoch 4/10\n",
      "1875/1875 [==============================] - 11s 6ms/step - loss: 0.0485 - accuracy: 0.9849 - val_loss: 0.0537 - val_accuracy: 0.9817\n",
      "Epoch 5/10\n",
      "1875/1875 [==============================] - 11s 6ms/step - loss: 0.0394 - accuracy: 0.9878 - val_loss: 0.0564 - val_accuracy: 0.9827\n",
      "Epoch 6/10\n",
      "1875/1875 [==============================] - 11s 6ms/step - loss: 0.0333 - accuracy: 0.9898 - val_loss: 0.0533 - val_accuracy: 0.9823\n",
      "Epoch 7/10\n",
      "1875/1875 [==============================] - 11s 6ms/step - loss: 0.0288 - accuracy: 0.9911 - val_loss: 0.0534 - val_accuracy: 0.9836\n",
      "Epoch 8/10\n",
      "1875/1875 [==============================] - 11s 6ms/step - loss: 0.0229 - accuracy: 0.9934 - val_loss: 0.0557 - val_accuracy: 0.9830\n",
      "Epoch 9/10\n",
      "1875/1875 [==============================] - 11s 6ms/step - loss: 0.0206 - accuracy: 0.9941 - val_loss: 0.0559 - val_accuracy: 0.9828\n",
      "Epoch 10/10\n",
      "1875/1875 [==============================] - 11s 6ms/step - loss: 0.0158 - accuracy: 0.9955 - val_loss: 0.0584 - val_accuracy: 0.9833\n"
     ]
    }
   ],
   "source": [
    "model.compile(optimizer='adam', loss='sparse_categorical_crossentropy', metrics=['accuracy'])\n",
    "\n",
    "history=model.fit(x_train_in, y_train, validation_data=(x_valid_in, y_valid), epochs=10)"
   ]
  },
  {
   "cell_type": "code",
   "execution_count": 13,
   "id": "2415d3a4",
   "metadata": {},
   "outputs": [
    {
     "name": "stdout",
     "output_type": "stream",
     "text": [
      "313/313 [==============================] - 1s 2ms/step - loss: 0.0584 - accuracy: 0.9833\n"
     ]
    },
    {
     "data": {
      "text/plain": [
       "[0.05843944102525711, 0.983299970626831]"
      ]
     },
     "execution_count": 13,
     "metadata": {},
     "output_type": "execute_result"
    }
   ],
   "source": [
    "model.evaluate(x_valid_in, y_valid)"
   ]
  },
  {
   "cell_type": "code",
   "execution_count": 14,
   "id": "e2850b4f",
   "metadata": {},
   "outputs": [
    {
     "data": {
      "image/png": "[encoded data removed]",
      "text/plain": [
       "<Figure size 864x288 with 2 Axes>"
      ]
     },
     "metadata": {
      "needs_background": "light"
     },
     "output_type": "display_data"
    }
   ],
   "source": [
    "def plot_loss_acc(history, epoch):\n",
    "    loss, val_loss = history.history['loss'], history.history['val_loss']\n",
    "    acc, val_acc = history.history['accuracy'], history.history['val_accuracy']\n",
    "    \n",
    "    fig, axes = plt.subplots(1, 2, figsize=(12,4))\n",
    "    \n",
    "    axes[0].plot(range(1, epoch + 1), loss, label='Training')\n",
    "    axes[0].plot(range(1, epoch + 1), val_loss, label='Validation')\n",
    "    axes[0].legend(loc='best')\n",
    "    axes[0].set_title('Loss')\n",
    "    \n",
    "    axes[1].plot(range(1, epoch + 1), acc, label='Training')\n",
    "    axes[1].plot(range(1, epoch + 1), val_acc, label='Validation')\n",
    "    axes[1].legend(loc='best')\n",
    "    axes[1].set_title('Accuracy')\n",
    "    \n",
    "    plt.show()\n",
    "\n",
    "plot_loss_acc(history, 10)"
   ]
  },
  {
   "cell_type": "code",
   "execution_count": 15,
   "id": "c1b3d0a9",
   "metadata": {},
   "outputs": [
    {
     "name": "stdout",
     "output_type": "stream",
     "text": [
      "Model: \"sequential_1\"\n",
      "_________________________________________________________________\n",
      "Layer (type)                 Output Shape              Param #   \n",
      "=================================================================\n",
      "conv (Conv2D)                (None, 26, 26, 32)        320       \n",
      "_________________________________________________________________\n",
      "pool (MaxPooling2D)          (None, 13, 13, 32)        0         \n",
      "_________________________________________________________________\n",
      "flatten_1 (Flatten)          (None, 5408)              0         \n",
      "_________________________________________________________________\n",
      "dense_1 (Dense)              (None, 10)                54090     \n",
      "=================================================================\n",
      "Total params: 54,410\n",
      "Trainable params: 54,410\n",
      "Non-trainable params: 0\n",
      "_________________________________________________________________\n"
     ]
    }
   ],
   "source": [
    "model.summary()"
   ]
  },
  {
   "cell_type": "code",
   "execution_count": 17,
   "id": "47ad75f6",
   "metadata": {},
   "outputs": [
    {
     "data": {
      "text/plain": [
       "<KerasTensor: shape=(None, 28, 28, 1) dtype=float32 (created by layer 'conv_input')>"
      ]
     },
     "execution_count": 17,
     "metadata": {},
     "output_type": "execute_result"
    }
   ],
   "source": [
    "model.input"
   ]
  },
  {
   "cell_type": "code",
   "execution_count": 18,
   "id": "2519fda1",
   "metadata": {},
   "outputs": [
    {
     "data": {
      "text/plain": [
       "<KerasTensor: shape=(None, 10) dtype=float32 (created by layer 'dense_1')>"
      ]
     },
     "execution_count": 18,
     "metadata": {},
     "output_type": "execute_result"
    }
   ],
   "source": [
    "model.output"
   ]
  },
  {
   "cell_type": "code",
   "execution_count": 19,
   "id": "e0347617",
   "metadata": {},
   "outputs": [
    {
     "data": {
      "text/plain": [
       "[<tensorflow.python.keras.layers.convolutional.Conv2D at 0x7f8f953ff310>,\n",
       " <tensorflow.python.keras.layers.pooling.MaxPooling2D at 0x7f8f953ffd90>,\n",
       " <tensorflow.python.keras.layers.core.Flatten at 0x7f8f953ffb20>,\n",
       " <tensorflow.python.keras.layers.core.Dense at 0x7f8fb2c24430>]"
      ]
     },
     "execution_count": 19,
     "metadata": {},
     "output_type": "execute_result"
    }
   ],
   "source": [
    "model.layers"
   ]
  },
  {
   "cell_type": "code",
   "execution_count": 20,
   "id": "c09053b0",
   "metadata": {},
   "outputs": [
    {
     "data": {
      "text/plain": [
       "<tensorflow.python.keras.layers.convolutional.Conv2D at 0x7f8f953ff310>"
      ]
     },
     "execution_count": 20,
     "metadata": {},
     "output_type": "execute_result"
    }
   ],
   "source": [
    "model.layers[0]"
   ]
  },
  {
   "cell_type": "code",
   "execution_count": 21,
   "id": "8c8b366b",
   "metadata": {},
   "outputs": [
    {
     "data": {
      "text/plain": [
       "<KerasTensor: shape=(None, 28, 28, 1) dtype=float32 (created by layer 'conv_input')>"
      ]
     },
     "execution_count": 21,
     "metadata": {},
     "output_type": "execute_result"
    }
   ],
   "source": [
    "model.layers[0].input"
   ]
  },
  {
   "cell_type": "code",
   "execution_count": 22,
   "id": "2fa62ec2",
   "metadata": {},
   "outputs": [
    {
     "data": {
      "text/plain": [
       "<KerasTensor: shape=(None, 26, 26, 32) dtype=float32 (created by layer 'conv')>"
      ]
     },
     "execution_count": 22,
     "metadata": {},
     "output_type": "execute_result"
    }
   ],
   "source": [
    "model.layers[0].output"
   ]
  },
  {
   "cell_type": "code",
   "execution_count": 24,
   "id": "696ba0c2",
   "metadata": {},
   "outputs": [
    {
     "data": {
      "text/plain": [
       "[<tf.Variable 'conv/kernel:0' shape=(3, 3, 1, 32) dtype=float32, numpy=\n",
       " array([[[[ 2.14770123e-01,  5.35225987e-01, -2.22351551e-01,\n",
       "           -4.33662295e-01,  6.11566715e-02, -4.03668033e-03,\n",
       "            4.09300119e-01, -4.88926098e-02, -4.26067442e-01,\n",
       "            7.48413265e-01, -4.02224153e-01,  1.18352287e-03,\n",
       "           -2.68135935e-01, -2.10401211e-02,  1.83250532e-01,\n",
       "            1.79717600e-01, -7.11562634e-01, -2.84978598e-01,\n",
       "            3.49986464e-01,  5.20332992e-01,  2.81597316e-01,\n",
       "            9.54752788e-02, -2.07878985e-02, -3.22951138e-01,\n",
       "           -1.16424406e+00, -7.90193975e-01, -3.88122126e-02,\n",
       "           -1.02553606e+00,  1.49689719e-01, -4.64404017e-01,\n",
       "            2.62847453e-01,  2.59616166e-01]],\n",
       " \n",
       "         [[ 1.36188269e-01, -2.96009108e-02,  3.39387149e-01,\n",
       "            4.37364206e-02, -3.32041711e-01, -5.16579375e-02,\n",
       "            7.42874444e-02,  3.84313869e-03,  1.44513085e-01,\n",
       "           -1.36672661e-01,  4.53924656e-01,  2.09111407e-01,\n",
       "           -3.41549426e-01,  9.03623179e-02,  3.83845359e-01,\n",
       "           -2.22955152e-01,  2.48397328e-02, -6.52366519e-01,\n",
       "            3.92792076e-01,  3.59527469e-01, -1.87947020e-01,\n",
       "           -3.39260936e-01, -4.62616444e-01, -5.71602464e-01,\n",
       "           -8.87529075e-01, -1.42151862e-01,  2.20203668e-01,\n",
       "           -5.49501836e-01,  5.11062145e-01, -2.75510162e-01,\n",
       "            1.48885414e-01,  1.47022739e-01]],\n",
       " \n",
       "         [[-3.66758645e-01, -4.57129270e-01,  3.99403542e-01,\n",
       "            2.08511099e-01, -3.51119041e-01, -4.55008484e-02,\n",
       "           -5.50945580e-01,  2.76309162e-01,  3.58052820e-01,\n",
       "           -7.86537409e-01,  6.44233167e-01,  4.22468036e-02,\n",
       "            1.80861890e-01,  6.06870204e-02,  6.42391145e-01,\n",
       "           -2.54266262e-01,  2.80537546e-01, -5.86041152e-01,\n",
       "           -2.71408468e-01, -2.41942108e-01, -4.06508923e-01,\n",
       "           -1.14098990e+00,  4.94568765e-01,  6.86195254e-01,\n",
       "           -1.10392094e+00,  3.89842570e-01,  1.89101234e-01,\n",
       "            1.54406175e-01,  5.95792055e-01,  3.50760341e-01,\n",
       "           -1.45753369e-01, -6.10333979e-01]]],\n",
       " \n",
       " \n",
       "        [[[-1.50723476e-02, -1.12136984e+00,  3.89744252e-01,\n",
       "           -9.00697371e-04,  3.40943962e-01,  1.30499117e-02,\n",
       "            1.89455241e-01,  1.65679455e-01,  1.96882024e-01,\n",
       "            6.55648708e-01, -1.19546688e+00, -4.46494997e-01,\n",
       "            1.55608788e-01,  2.39002883e-01, -3.29095513e-01,\n",
       "            3.30193698e-01,  1.61698610e-01,  4.73628432e-01,\n",
       "           -1.91223502e-01,  3.71061802e-01, -5.11491835e-01,\n",
       "            5.17337143e-01,  3.90732944e-01,  4.06804264e-01,\n",
       "            1.16027847e-01, -5.55919528e-01,  6.43925518e-02,\n",
       "           -4.09811497e-01, -1.73613429e-01, -7.01138854e-01,\n",
       "           -2.27663010e-01,  3.32502782e-01]],\n",
       " \n",
       "         [[ 2.81641334e-01, -4.31830049e-01,  2.83272624e-01,\n",
       "            1.42633289e-01,  4.30574059e-01,  6.05818212e-01,\n",
       "           -1.11370841e-02, -1.71241552e-01,  1.04377806e-01,\n",
       "           -1.17104590e+00,  5.13040880e-03,  3.90867352e-01,\n",
       "            6.39193654e-02,  1.37659416e-01,  4.25559610e-01,\n",
       "            2.23368436e-01,  4.36861485e-01,  7.09719732e-02,\n",
       "            1.29345328e-01,  3.29257667e-01, -1.84451014e-01,\n",
       "            4.22872156e-02, -7.66153932e-01, -7.07676291e-01,\n",
       "            2.42985278e-01,  4.10478920e-01,  7.34362798e-03,\n",
       "           -3.46332222e-01,  1.96240544e-01, -2.39499569e-01,\n",
       "            1.87105730e-01,  2.17119381e-01]],\n",
       " \n",
       "         [[ 6.95803016e-02,  2.50076115e-01, -2.95157999e-01,\n",
       "            8.01491439e-02,  3.97127211e-01,  5.76609790e-01,\n",
       "           -1.79617509e-01, -3.87322437e-03, -1.69012710e-01,\n",
       "            2.93915570e-01,  5.85482121e-01, -1.66270599e-01,\n",
       "            2.80110687e-01, -3.40353251e-01,  8.17496926e-02,\n",
       "           -7.55273104e-02, -7.78325349e-02, -1.44323617e-01,\n",
       "            1.59304366e-01, -9.24469113e-01,  8.80122483e-02,\n",
       "           -6.10223949e-01,  4.48555529e-01, -2.33889259e-02,\n",
       "           -2.37857908e-01,  4.22201931e-01, -3.53363991e-01,\n",
       "            3.97022724e-01,  4.44684803e-01,  6.25843704e-01,\n",
       "           -7.70976543e-02, -6.35542989e-01]]],\n",
       " \n",
       " \n",
       "        [[[-2.25588530e-01,  4.58581209e-01, -2.96154946e-01,\n",
       "            2.72877514e-01, -2.23980024e-01, -5.83498180e-01,\n",
       "           -1.86201379e-01,  4.48996007e-01,  2.08218947e-01,\n",
       "           -2.10857138e-01, -9.46669042e-01, -1.29899815e-01,\n",
       "            2.18461961e-01, -1.81032509e-01, -1.18161273e+00,\n",
       "           -3.08494717e-01,  2.82143682e-01,  3.06472898e-01,\n",
       "           -5.70892990e-01, -6.44142389e-01,  1.13240056e-01,\n",
       "            5.27154863e-01,  4.77368444e-01,  5.52051604e-01,\n",
       "            6.90506101e-01,  8.37309510e-02,  1.50536802e-02,\n",
       "           -4.01159674e-01, -1.04685712e+00, -4.91753072e-01,\n",
       "           -1.46712393e-01,  1.44827932e-01]],\n",
       " \n",
       "         [[-1.67936951e-01,  4.79051441e-01, -5.02454996e-01,\n",
       "           -5.63614480e-02, -3.25730622e-01, -4.91282701e-01,\n",
       "            3.63463879e-01, -3.31934601e-01,  1.24163538e-01,\n",
       "           -7.51702845e-01, -4.41195786e-01,  5.28658569e-01,\n",
       "            2.16077380e-02, -9.60091129e-02, -8.03283453e-01,\n",
       "            1.23426924e-03, -1.32937714e-01,  4.29410875e-01,\n",
       "            7.70125389e-02, -8.18379879e-01,  2.25515231e-01,\n",
       "            1.22030042e-01, -6.89675570e-01,  4.74629924e-02,\n",
       "            5.25927365e-01,  2.55764127e-01,  1.05622768e-01,\n",
       "            3.75920951e-01, -8.50421250e-01,  1.44041646e-02,\n",
       "            2.24266216e-01,  3.21373850e-01]],\n",
       " \n",
       "         [[ 3.24674785e-01,  8.43849257e-02, -5.70185542e-01,\n",
       "           -7.69552365e-02,  6.67353049e-02, -6.12812459e-01,\n",
       "            2.72863328e-01, -2.31561199e-01, -3.96377653e-01,\n",
       "            6.79874778e-01,  1.08583160e-01, -2.34828040e-01,\n",
       "           -9.17387232e-02,  3.84460181e-01, -1.10962296e+00,\n",
       "            2.54051477e-01, -4.75185305e-01,  2.60695726e-01,\n",
       "            2.75307447e-01, -1.49946177e+00,  2.00218454e-01,\n",
       "           -5.75474918e-01,  2.52296589e-02, -4.45487916e-01,\n",
       "            2.16394216e-01, -3.46657708e-02,  2.68213451e-01,\n",
       "            2.90215045e-01, -6.48548961e-01,  5.43860078e-01,\n",
       "            1.48970053e-01,  1.00747325e-01]]]], dtype=float32)>,\n",
       " <tf.Variable 'conv/bias:0' shape=(32,) dtype=float32, numpy=\n",
       " array([-3.0799073e-01,  4.3005464e-04, -9.4435941e-03, -2.9546791e-01,\n",
       "        -1.4800972e-01, -1.4145569e-03, -4.3710065e-01, -2.2165284e-01,\n",
       "        -3.0153599e-01,  2.5284020e-03, -8.7766461e-02, -1.8466538e-01,\n",
       "        -2.9626510e-01, -1.9933587e-01, -1.3697108e-02, -2.6516029e-01,\n",
       "        -2.0867355e-01, -1.3012727e-01, -3.2333085e-01,  1.3798980e-01,\n",
       "        -4.5723438e-02,  1.4344466e-01, -5.0966744e-03,  6.6418126e-03,\n",
       "        -1.6930411e-02, -1.6528776e-01, -2.7423877e-01, -2.1690287e-01,\n",
       "        -6.7240536e-02, -1.1146625e-01, -2.7650729e-01, -3.0625665e-01],\n",
       "       dtype=float32)>]"
      ]
     },
     "execution_count": 24,
     "metadata": {},
     "output_type": "execute_result"
    }
   ],
   "source": [
    "model.layers[0].weights"
   ]
  },
  {
   "cell_type": "code",
   "execution_count": 25,
   "id": "85f537a2",
   "metadata": {},
   "outputs": [
    {
     "data": {
      "text/plain": [
       "2"
      ]
     },
     "execution_count": 25,
     "metadata": {},
     "output_type": "execute_result"
    }
   ],
   "source": [
    "activator = tf.keras.Model(inputs=model.input, outputs=[layer.output for layer in model.layers[:2]])\n",
    "\n",
    "activations = activator.predict(x_train_in[0][tf.newaxis, ...])\n",
    "\n",
    "len(activations)"
   ]
  },
  {
   "cell_type": "code",
   "execution_count": 26,
   "id": "b83b7e06",
   "metadata": {},
   "outputs": [
    {
     "data": {
      "text/plain": [
       "(1, 26, 26, 32)"
      ]
     },
     "execution_count": 26,
     "metadata": {},
     "output_type": "execute_result"
    }
   ],
   "source": [
    "conv_activation=activations[0]\n",
    "conv_activation.shape"
   ]
  },
  {
   "cell_type": "code",
   "execution_count": 29,
   "id": "9124c637",
   "metadata": {},
   "outputs": [
    {
     "data": {
      "image/png": "[encoded data removed]",
      "text/plain": [
       "<Figure size 720x360 with 32 Axes>"
      ]
     },
     "metadata": {},
     "output_type": "display_data"
    }
   ],
   "source": [
    "fig, axes = plt.subplots(4, 8)\n",
    "fig.set_size_inches(10, 5)\n",
    "\n",
    "for i in range(32) :\n",
    "    axes[i//8, i%8].matshow(conv_activation[0, :, :, i], cmap='viridis')\n",
    "    axes[i//8, i%8].set_title('kernel %s'%str(i), fontsize=10)\n",
    "    plt.setp(axes[i//8, i%8].get_xticklabels(), visible=False)\n",
    "    plt.setp(axes[i//8, i%8].get_yticklabels(), visible=False)\n",
    "\n",
    "plt.tight_layout()\n",
    "plt.show()"
   ]
  },
  {
   "cell_type": "code",
   "execution_count": 30,
   "id": "22baa1c4",
   "metadata": {},
   "outputs": [
    {
     "name": "stdout",
     "output_type": "stream",
     "text": [
      "(1, 13, 13, 32)\n"
     ]
    }
   ],
   "source": [
    "pooling_activation=activations[1]\n",
    "print(pooling_activation.shape)"
   ]
  },
  {
   "cell_type": "code",
   "execution_count": 31,
   "id": "334283d1",
   "metadata": {},
   "outputs": [
    {
     "data": {
      "image/png": "[encoded data removed]",
      "text/plain": [
       "<Figure size 720x360 with 32 Axes>"
      ]
     },
     "metadata": {},
     "output_type": "display_data"
    }
   ],
   "source": [
    "fig, axes = plt.subplots(4, 8)\n",
    "fig.set_size_inches(10, 5)\n",
    "\n",
    "for i in range(32) :\n",
    "    axes[i//8, i%8].matshow(pooling_activation[0, :, :, i], cmap='viridis')\n",
    "    axes[i//8, i%8].set_title('kernel %s'%str(i), fontsize=10)\n",
    "    plt.setp(axes[i//8, i%8].get_xticklabels(), visible=False)\n",
    "    plt.setp(axes[i//8, i%8].get_yticklabels(), visible=False)\n",
    "\n",
    "plt.tight_layout()\n",
    "plt.show()"
   ]
  },
  {
   "cell_type": "code",
   "execution_count": null,
   "id": "9c6288ab",
   "metadata": {},
   "outputs": [],
   "source": []
  }
 ],
 "metadata": {
  "kernelspec": {
   "display_name": "Python 3 (ipykernel)",
   "language": "python",
   "name": "python3"
  },
  "language_info": {
   "codemirror_mode": {
    "name": "ipython",
    "version": 3
   },
   "file_extension": ".py",
   "mimetype": "text/x-python",
   "name": "python",
   "nbconvert_exporter": "python",
   "pygments_lexer": "ipython3",
   "version": "3.8.5"
  }
 },
 "nbformat": 4,
 "nbformat_minor": 5
}
