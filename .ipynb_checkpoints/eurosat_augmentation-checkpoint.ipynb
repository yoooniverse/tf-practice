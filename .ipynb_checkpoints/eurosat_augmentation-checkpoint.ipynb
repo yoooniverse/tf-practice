{
 "cells": [
  {
   "cell_type": "markdown",
   "id": "b6978498",
   "metadata": {},
   "source": [
    "\"파이썬 딥러닝 텐서플로우\" 교재 중  \n",
    "\"part 04 합성곱 신경망(CNN) 04 위성 이미지 분류\"에 대한 코드 정리"
   ]
  },
  {
   "cell_type": "code",
   "execution_count": null,
   "id": "89fb3095",
   "metadata": {},
   "outputs": [],
   "source": [
    "pip install tensorflow_datasets"
   ]
  },
  {
   "cell_type": "code",
   "execution_count": null,
   "id": "750fc912",
   "metadata": {
    "scrolled": true
   },
   "outputs": [],
   "source": [
    "import tensorflow as tf\n",
    "import numpy as np\n",
    "import json\n",
    "import matplotlib.pylab as plt\n",
    "\n",
    "# tensorflow dataset 활용\n",
    "import tensorflow_datasets as tfds"
   ]
  },
  {
   "cell_type": "markdown",
   "id": "8b6266f8",
   "metadata": {},
   "source": [
    "json 라이브러리가 무엇인지 궁금하면 아래 글을 참고하자.  \n",
    "[json 라이브러리에 대한 설명](http://pythonstudy.xyz/python/article/205-JSON-%EB%8D%B0%EC%9D%B4%ED%83%80)  \n",
    "사람과 기계가 쉽게 읽을 수 있는 데이터 포맷 중 하나라고 한다."
   ]
  },
  {
   "cell_type": "markdown",
   "id": "9b113a19",
   "metadata": {},
   "source": [
    "`ModuleNotFoundError: No module named 'tensorflow_datasets'`  \n",
    "에러가 나타나면 아나콘다 내비게이터를 실행해서, tensorflow_datasets' 패키지를 설치해주자."
   ]
  },
  {
   "cell_type": "code",
   "execution_count": null,
   "id": "907c98d3",
   "metadata": {},
   "outputs": [],
   "source": [
    "DATA_DIR = \"dataset/\"\n",
    "\n",
    "(train_ds, valid_ds).info = tfds.load('eurosat/rgb', split=['train[:80%]', 'train[80%:]'],\n",
    "                                     shuffle_files=True,\n",
    "                                     as_supervised=True,\n",
    "                                     with_info=True,\n",
    "                                     data_dir=DATA_DIR)\n",
    "\n",
    "print(train_ds)\n",
    "print(valid_ds)"
   ]
  },
  {
   "cell_type": "code",
   "execution_count": null,
   "id": "762ca106",
   "metadata": {},
   "outputs": [],
   "source": []
  }
 ],
 "metadata": {
  "kernelspec": {
   "display_name": "Python 3 (ipykernel)",
   "language": "python",
   "name": "python3"
  },
  "language_info": {
   "codemirror_mode": {
    "name": "ipython",
    "version": 3
   },
   "file_extension": ".py",
   "mimetype": "text/x-python",
   "name": "python",
   "nbconvert_exporter": "python",
   "pygments_lexer": "ipython3",
   "version": "3.8.5"
  }
 },
 "nbformat": 4,
 "nbformat_minor": 5
}
